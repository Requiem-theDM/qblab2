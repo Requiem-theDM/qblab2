{
 "cells": [
  {
   "cell_type": "markdown",
   "metadata": {},
   "source": [
    "# Quantitative Biology and Biophysics (AS.020.674/618)\tSpring 2025\n",
    "## Lab 4: Gordus \n",
    "## February 20, 2025\n",
    "\n",
    "# II.1 Dipoles\n",
    "\n",
    "II.1 Calculation of the dipole moment of adenine. Calculate the dipole moment of adenine (the x and y components, µx and µy, as well as the magnitude |µ|) and visualize it as a vector plotted on top of the adenine structure.\n",
    "\n",
    "The tab-separated values file Adenine_qxy.txt contains the partial charges (in elementary charges, qe) and positions (in Å) for all atoms in the adenine structure.\n",
    "\n",
    "The contributions of the individual atoms are additive, so as discussed in class, we calculate the x and y components of the dipole moment according to\n",
    "\n",
    "<img src=\"http://www.gordus.org/public_images/dipoles3.png\" style=\"width: 300px;\"/>\n",
    "\n",
    "\n",
    "where qi is the partial charge of atom i and xi and yi are the coordinates of the atom. Adenine is planar, so we do not need the third (z) dimension here. \n",
    "\n",
    "<img src=\"http://www.gordus.org/public_images/adenine.png\" style=\"width: 200px;\"/>\n",
    "\n",
    "\n",
    "The position of each atom is designated in a coordinate system with its origin at the H atom at position 9 and with the H-N9 bond parallel to the y-axis.\n",
    "\n",
    "The charge values in the text file are net charge densities that already include the contributions of both the positive and negative charges at each atom position.\n",
    "\n",
    "**The magnitude of the dipole moment has dimensions of charge*distance. In SI units, the charge is expressed in coulombs (C) and the length in meters (m). A special unit, the debye (D), has been defined for dipole moments.**\n",
    "\n",
    "**To convert the units used in the table (elementary charge, qe, and Å) to debye (D), multiply with 4.803:\n",
    "4.803 D =  qe Å**\n",
    "\n",
    "Import Adenine_qxy.txt as a pandas dataframe to calculate the dipole moment. The headers are: Atom, Element, qi, xi, yi\n"
   ]
  },
  {
   "cell_type": "code",
   "execution_count": 1,
   "metadata": {},
   "outputs": [],
   "source": [
    "# These are the libraries you will need for this lab\n",
    "\n",
    "import pandas as pd\n",
    "import matplotlib.pyplot as plt\n",
    "import numpy as np\n",
    "import re # This is very useful for matching strings using re.search(string,var)\n"
   ]
  },
  {
   "cell_type": "markdown",
   "metadata": {},
   "source": [
    "\n",
    "# <font color='red'>Student Input Cell: 2 points</font>   "
   ]
  },
  {
   "cell_type": "code",
   "execution_count": 7,
   "metadata": {},
   "outputs": [],
   "source": [
    "# Import Data, as a pandas dataframe\n",
    "file_path = '/Users/cmdb/Documents/GitHub/qblab2/week4/'\n",
    "filename  = 'Adenine_qxy.txt'\n",
    "filename = file_path + filename\n",
    "\n",
    "# The headers are: Atom, Element, qi, xi, yi\n",
    "df = pd.read_csv(filename, sep=\"\\t\", header = 0)\n"
   ]
  },
  {
   "cell_type": "markdown",
   "metadata": {},
   "source": [
    "##  II.1a Calculate the dipole moment & magnitude\n",
    "\n",
    "This will require accesssing data from the DataFrame `df`.\n",
    "\n",
    "If you want to access a column of data from the DataFrame table, you can use its header name. For example, if you want to access the column of Atoms, you would use:\n",
    "\n",
    "`df.Atom`\n",
    "\n",
    "\n",
    "# <font color='red'>Student Input Cell: 4 points</font> "
   ]
  },
  {
   "cell_type": "code",
   "execution_count": 54,
   "metadata": {},
   "outputs": [
    {
     "name": "stdout",
     "output_type": "stream",
     "text": [
      "The x dipole moment in qe*Å is 0.53138.\n",
      "The y dipole moment in qe*Å is -0.4211999999999999.\n",
      "The dipole vector magnitude in Debye is 3.256753279003802.\n",
      "The dipole magnitude in qe*Å 0.6780664749123052.\n",
      "The dipole magnitude in Debye 3.256753279003802.\n"
     ]
    }
   ],
   "source": [
    "# Calculate the dipole moment & magnitude\n",
    "dipole_moment_x = np.sum(df.qi*df.xi)\n",
    "dipole_moment_y = np.sum(df.qi*df.yi)\n",
    "dipole_moment = dipole_moment_x + dipole_moment_y\n",
    "dipole_magnitude = np.sqrt(dipole_moment_x**2 + dipole_moment_y**2)\n",
    "\n",
    "# Calculate and print the dipole moment along each axis\n",
    "print(f\"The x dipole moment in qe*Å is {dipole_moment_x}.\")\n",
    "print(f\"The y dipole moment in qe*Å is {dipole_moment_y}.\")\n",
    "\n",
    "\n",
    "# convert units of e*A to D\n",
    "debye_x = 4.803 * dipole_moment_x\n",
    "debye_y = 4.803 * dipole_moment_y\n",
    "debye_total = 4.803 * dipole_moment\n",
    "debye_magnitude = 4.803 * dipole_magnitude\n",
    "\n",
    "\n",
    "# Create a dipole vector\n",
    "dipole_vector = [np.sum(debye_x),np.sum(debye_y)]\n",
    "\n",
    "# Calculate and print the magnitude of the vector\n",
    "dipole_vector_magnitude = np.sqrt(dipole_vector[0]**2 + dipole_vector[1]**2)\n",
    "print(f\"The dipole vector magnitude in Debye is {dipole_vector_magnitude}.\")\n",
    "\n",
    "# Print dipole magnitude\n",
    "print(f\"The dipole magnitude in qe*Å {dipole_magnitude}.\")\n",
    "print(f\"The dipole magnitude in Debye {debye_magnitude}.\")\n"
   ]
  },
  {
   "cell_type": "markdown",
   "metadata": {},
   "source": [
    "##  II.1b Plot the atomic coordinates for adenine. Make sure the aspect ratio for both axes are equal.\n",
    "\n",
    "### Hydrogen: white\n",
    "### Carbon: black\n",
    "### Nigrogen: blue\n",
    "\n",
    "### re.search\n",
    "\n",
    "This will require you use the `re.match` function to string-match from your table of data in `df`. The output from this function is an object, but all you really care about is if you were successful or not, so if you wrap this in a `bool()` function, you will return a `True` if there is a match, and a `False` if there is no match.\n",
    "\n",
    "For example, try executing the following:\n",
    "\n",
    "`name = 'Andrew'`\n",
    "\n",
    "`match = bool(re.match('A',name))`\n",
    "\n",
    "`print(match)`\n",
    "\n",
    "`match = bool(re.match('Z',name))`\n",
    "\n",
    "`print(match)`\n",
    "\n",
    "\n",
    "### plt.arrow()\n",
    "\n",
    "To draw the dipole moment, use the `plt.arrow` function:\n",
    "\n",
    "`plt.arrow(x,y,dx, dy,head_width = 0.3)`\n",
    "\n",
    "For `x,y` (the anchor of the arrow), use `0,0`.\n",
    "\n",
    "### plt.axis('scaled')\n",
    "To ensure your plot is scaled correctly, please use:\n",
    "\n",
    "`plt.axis('scaled')`\n",
    "\n",
    "### plt.plot( ..., 'o',markerfacecolor = color, markeredgecolor = color)\n",
    "\n",
    "**Marker**\n",
    "To only plot circle markers, with no lines connecting them, include a marker argument for a circle (`'o'`) to your plot execution:\n",
    "\n",
    "`plt.plot(x,y,'o')`\n",
    "\n",
    "There are numerous markers available in matplotlib. You can find a list of them here:\n",
    "\n",
    "https://matplotlib.org/stable/api/markers_api.html\n",
    "\n",
    "**Colors**\n",
    "matplotlib has single-letter codes you can use to define plot element colors:\n",
    "\n",
    "Representing basic colors:\n",
    "'b': blue\n",
    "'g': green\n",
    "'r': red\n",
    "'c': cyan\n",
    "'m': magenta\n",
    "'y': yellow\n",
    "'k': black\n",
    "'w': white\n",
    "\n",
    "You can color your markers by simply adding this string to your marker option. For example, to plot your data with a red circle:\n",
    "\n",
    "`plt.plot(x,y,'ro')`\n",
    "\n",
    "**Marker face and edge colors**\n",
    "\n",
    "The above code creates a marker with matching edge and face color. If you want to call these separately, you can use the `markerfacecolor` and `markeredgecolor` arguments. For example, if you wanted to make white markers with a black edge:\n",
    "\n",
    "`plt.plot(x,y,'o',markerfacecolor = 'w',markeredgecolor = 'k')`\n",
    "\n",
    "`plt.axis('scaled')`\n",
    "\n",
    "# <font color='red'>Student Input Cell: 4 points</font> "
   ]
  },
  {
   "cell_type": "code",
   "execution_count": null,
   "metadata": {},
   "outputs": [
    {
     "ename": "NameError",
     "evalue": "name 'df' is not defined",
     "output_type": "error",
     "traceback": [
      "\u001b[0;31m---------------------------------------------------------------------------\u001b[0m",
      "\u001b[0;31mNameError\u001b[0m                                 Traceback (most recent call last)",
      "Cell \u001b[0;32mIn[1], line 4\u001b[0m\n\u001b[1;32m      1\u001b[0m \u001b[38;5;66;03m# Plot the atomic coordinates for adenine. Make sure the aspect ratio for both axes are equal.\u001b[39;00m\n\u001b[1;32m      2\u001b[0m \u001b[38;5;66;03m#\u001b[39;00m\n\u001b[1;32m      3\u001b[0m \u001b[38;5;66;03m# Hydrogen: white\u001b[39;00m\n\u001b[0;32m----> 4\u001b[0m hydrogens, carbons, nitrogens \u001b[38;5;241m=\u001b[39m df[df[\u001b[38;5;124m'\u001b[39m\u001b[38;5;124mElement\u001b[39m\u001b[38;5;124m'\u001b[39m] \u001b[38;5;241m==\u001b[39m [\u001b[38;5;124m\"\u001b[39m\u001b[38;5;124mH\u001b[39m\u001b[38;5;124m\"\u001b[39m,\u001b[38;5;124m\"\u001b[39m\u001b[38;5;124mC\u001b[39m\u001b[38;5;124m\"\u001b[39m,\u001b[38;5;124m\"\u001b[39m\u001b[38;5;124mN\u001b[39m\u001b[38;5;124m\"\u001b[39m]]\n\u001b[1;32m      5\u001b[0m \u001b[38;5;28mprint\u001b[39m(hydrogens,carbons,nitrogens)\n\u001b[1;32m      6\u001b[0m hydrogens \u001b[38;5;241m=\u001b[39m df[df[\u001b[38;5;124m'\u001b[39m\u001b[38;5;124mElement\u001b[39m\u001b[38;5;124m'\u001b[39m] \u001b[38;5;241m==\u001b[39m \u001b[38;5;124m\"\u001b[39m\u001b[38;5;124mH\u001b[39m\u001b[38;5;124m\"\u001b[39m]\n",
      "\u001b[0;31mNameError\u001b[0m: name 'df' is not defined"
     ]
    }
   ],
   "source": [
    "# Plot the atomic coordinates for adenine. Make sure the aspect ratio for both axes are equal.\n",
    "#\n",
    "# Hydrogen: white\n",
    "hydrogens = df[df['Element'] == \"H\"]\n",
    "plt.plot(hydrogens.xi,hydrogens.yi,'o',markerfacecolor='white',markeredgecolor='black')\n",
    "# Carbon: black\n",
    "carbons = df[df['Element'] == \"C\"]\n",
    "plt.plot(carbons.xi,carbons.yi,'o',markerfacecolor='black',markeredgecolor='black')\n",
    "# Nigrogen: blue\n",
    "nitrogens = df[df['Element'] == \"N\"]\n",
    "plt.plot(nitrogens.xi,nitrogens.yi,'o',markerfacecolor='blue',markeredgecolor='black')\n",
    "\n",
    "\n",
    "# Plot dipole vector\n",
    "#\n",
    "# Use the matplotlib \"arrow\" tool. I recommend making the head_width = 0.1\n",
    "plt.arrow(0,0,-dipole_vector[0],-dipole_vector[1],head_width=0.1)\n",
    "#\n",
    "# NOTE: The dipole vector you calculated points toward the positive dipole, HOWEVER common\n",
    "# convention is to draw the arrow pointing to the NEGATIVE dipole, so make sure you adjust\n",
    "# for this.\n",
    "\n",
    "plt.axis('scaled')\n",
    "plt.show()\n",
    "\n"
   ]
  },
  {
   "cell_type": "markdown",
   "metadata": {},
   "source": [
    "# II.3 Dipole-Dipole vs. Ion-Ion interactions\n",
    "\n",
    "Plot the energies for a dipole-dipole and for an ion-ion interaction as a function of distance from 3 to 10 Å such that their magnitudes are 1 at r = 3 Å. How does the distance dependence compare for the two types of interactions?\n"
   ]
  },
  {
   "cell_type": "markdown",
   "metadata": {},
   "source": [
    "# <font color='red'>Student Input Cell: 5 points</font> "
   ]
  },
  {
   "cell_type": "code",
   "execution_count": 53,
   "metadata": {},
   "outputs": [
    {
     "data": {
      "image/png": "[encoded data removed]",
      "text/plain": [
       "<Figure size 640x480 with 1 Axes>"
      ]
     },
     "metadata": {},
     "output_type": "display_data"
    }
   ],
   "source": [
    "# Plot energies of ion-ion and dipole-dipole interactions vs. distance\n",
    "\n",
    "# In the equations for charge-charge and dipole-dipole interactions, \n",
    "# we can combine all the terms execpt r into one parameter and get\n",
    "# Ui(r) = A/r for ion-ion interactions and\n",
    "# Ud (r) = B/r^3 for dipole-dipole interactions\n",
    "# \n",
    "# The energies at r = 3 A are 1 if\n",
    "# Ui(3) = Ud(3) = 1, \n",
    "# so 1 = A/3 = B/27 (we do not worry about units here).\n",
    "def ui(r):\n",
    "    return A/r\n",
    "\n",
    "def ud(r):\n",
    "    return B/r**3\n",
    "\n",
    "# set values for A and B\n",
    "A = 3\n",
    "B = 27\n",
    "\n",
    "# create a distance vector from 3 to 10; with step size 0.1\n",
    "distance_vector = np.arange(3,10.1,0.1)\n",
    "\n",
    "# plot\n",
    "plt.plot(distance_vector,ui(distance_vector),'k',label=\"Ion-Ion\")\n",
    "plt.plot(distance_vector,ud(distance_vector),'r',label=\"Dipole-Dipole\")\n",
    "plt.legend()\n",
    "\n",
    "# label axes\n",
    "plt.xlabel(\"Radius\")\n",
    "plt.ylabel(\"Electric Potential\")\n",
    "plt.show()"
   ]
  },
  {
   "cell_type": "code",
   "execution_count": null,
   "metadata": {},
   "outputs": [],
   "source": []
  }
 ],
 "metadata": {
  "kernelspec": {
   "display_name": "qblab2",
   "language": "python",
   "name": "python3"
  },
  "language_info": {
   "codemirror_mode": {
    "name": "ipython",
    "version": 3
   },
   "file_extension": ".py",
   "mimetype": "text/x-python",
   "name": "python",
   "nbconvert_exporter": "python",
   "pygments_lexer": "ipython3",
   "version": "3.12.0"
  }
 },
 "nbformat": 4,
 "nbformat_minor": 4
}
