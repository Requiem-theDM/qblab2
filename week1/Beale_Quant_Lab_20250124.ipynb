{
 "cells": [
  {
   "cell_type": "markdown",
   "id": "425be6bf-4da8-4bc2-8246-dcd363fe544b",
   "metadata": {
    "id": "425be6bf-4da8-4bc2-8246-dcd363fe544b"
   },
   "source": [
    "# Quantitative Biology and Biophysics (AS.020.618)\tSpring 2025\n",
    "## Lab #1\n",
    "## January 24, 2025\n",
    "\n",
    "#  Distributions and Approximations\n",
    "\n",
    "In class, we discussed the binomial distribution, and how if we have a large N, it approximates a continuous distribution that can approximate a Gaussian distribution. We also discussed some useful approximations: Sterlings approximation & the Taylor Expansion. In this lab, you will explore the properties of these distributions and approximations to hopefully gain a better understanding of their properties."
   ]
  },
  {
   "cell_type": "markdown",
   "id": "2f3e97c8-5010-4327-8394-ab9a4c4f9fa8",
   "metadata": {
    "id": "2f3e97c8-5010-4327-8394-ab9a4c4f9fa8"
   },
   "source": [
    "# Libraries you will need"
   ]
  },
  {
   "cell_type": "code",
   "execution_count": 1,
   "id": "2da35912-055a-41e4-8ce9-8d0fcec99342",
   "metadata": {
    "id": "2da35912-055a-41e4-8ce9-8d0fcec99342"
   },
   "outputs": [],
   "source": [
    "import pandas as pd\n",
    "import numpy as np\n",
    "import matplotlib.pyplot as plt\n",
    "import seaborn as sns\n",
    "from scipy.special import factorial\n",
    "from scipy.stats import binom\n",
    "from scipy.stats import norm\n",
    "from scipy.optimize import minimize\n",
    "from scipy.stats import norm\n",
    "from tqdm.notebook import tqdm"
   ]
  },
  {
   "cell_type": "markdown",
   "id": "0c02c62f",
   "metadata": {},
   "source": [
    "# Discrete vs. Continuous variables\n",
    "\n",
    "When creating vectors, sometimes you need to create vectors of discrete variables (such as number of animals) vs. continuous variables (such as mass). There are two useful functions for doing this:\n",
    "\n",
    " ### For discrete values:\n",
    "\n",
    "`np.arange(start,end_exclusive)`\n",
    "\n",
    "Example: `np.arange(0,10)` will produce a vector of integers from 0 to 9\n",
    "\n",
    "\n",
    " ### For continuous values:\n",
    "\n",
    "`np.linspace(start,end_inclusive)`\n",
    "\n",
    "Example: `np.linspace(0,10)` will produce a vector of 50 evenly spaced values from 0 to 10. The default number of values is 50, so if you want to specify this for X evenly spaced values, use `np.linspace(0,10, num=X)`.\n"
   ]
  },
  {
   "cell_type": "markdown",
   "id": "b790f5fa-7feb-488b-90d8-bdb76ae41507",
   "metadata": {
    "id": "b790f5fa-7feb-488b-90d8-bdb76ae41507"
   },
   "source": [
    "# Problem 1: The Binomial Distribution\n",
    "\n",
    "As I mentioned in class, this is a useful distribution when making predictions for binary phenomena. A common problem encountered in biology is making crosses, and deciding how many animals to screen for a particular genotype. Here is a common scenario:\n",
    "\n",
    "You want to make a double recessive mutant for alleles A & B.\n",
    "\n",
    "First, you cross mutant A with mutant B:\n",
    "\n",
    "P0 generation: aaBB x AAbb\n",
    "\n",
    "This produces heterozygous progeny:\n",
    "\n",
    "F1 generation: AaBb\n",
    "\n",
    "You then take siblings from this generation and cross them.\n",
    "\n",
    "**What is the probability of finding an F2 animal that is homozygous dominant for A (i.e. AA)?**"
   ]
  },
  {
   "cell_type": "markdown",
   "id": "3fe61a31-f3d3-41e4-90e1-c5068eb60e15",
   "metadata": {
    "id": "3fe61a31-f3d3-41e4-90e1-c5068eb60e15"
   },
   "source": [
    "## <font color='red'>Student Input Cell: 1 point</font> "
   ]
  },
  {
   "cell_type": "code",
   "execution_count": 2,
   "id": "d2b416e5-b248-47a7-84c1-fb785cce7afe",
   "metadata": {
    "id": "d2b416e5-b248-47a7-84c1-fb785cce7afe"
   },
   "outputs": [],
   "source": [
    "P_AA = 0.25"
   ]
  },
  {
   "cell_type": "markdown",
   "id": "cddfe376-acaa-41f3-9f54-408527cf2fcd",
   "metadata": {
    "id": "cddfe376-acaa-41f3-9f54-408527cf2fcd"
   },
   "source": [
    "**What is the probability of finding an F2 animal that is homozygous recessive for B (i.e. bb)?**"
   ]
  },
  {
   "cell_type": "markdown",
   "id": "1422c334-6cf9-4718-ae37-72c26867c850",
   "metadata": {
    "id": "1422c334-6cf9-4718-ae37-72c26867c850"
   },
   "source": [
    "## <font color='red'>Student Input Cell: 1 point</font> "
   ]
  },
  {
   "cell_type": "code",
   "execution_count": 3,
   "id": "7831254e-4926-45ff-a01d-4d4b7b2ecedb",
   "metadata": {
    "id": "7831254e-4926-45ff-a01d-4d4b7b2ecedb"
   },
   "outputs": [],
   "source": [
    "P_bb = 0.25"
   ]
  },
  {
   "cell_type": "markdown",
   "id": "c1977560-ff55-4a68-b43f-8f57fff98e1c",
   "metadata": {
    "id": "c1977560-ff55-4a68-b43f-8f57fff98e1c"
   },
   "source": [
    "**What is the probability of finding an F2 animal with the AAbb genotype?**"
   ]
  },
  {
   "cell_type": "markdown",
   "id": "bf758e45-33fd-4731-8545-74c4acaa3fe8",
   "metadata": {
    "id": "bf758e45-33fd-4731-8545-74c4acaa3fe8"
   },
   "source": [
    "## <font color='red'>Student Input Cell: 1 point</font> "
   ]
  },
  {
   "cell_type": "code",
   "execution_count": 5,
   "id": "71eec117-9264-4513-b709-cec61e8e5652",
   "metadata": {
    "id": "71eec117-9264-4513-b709-cec61e8e5652"
   },
   "outputs": [
    {
     "data": {
      "text/plain": [
       "0.0625"
      ]
     },
     "execution_count": 5,
     "metadata": {},
     "output_type": "execute_result"
    }
   ],
   "source": [
    "P_AAbb = P_AA * P_bb\n",
    "P_AAbb"
   ]
  },
  {
   "cell_type": "markdown",
   "id": "978cde13-097d-4d0e-9fe1-b60cb0066532",
   "metadata": {
    "id": "978cde13-097d-4d0e-9fe1-b60cb0066532"
   },
   "source": [
    "Let's look at the possible outcomes of picking 20 animals. **Given the above probability, what is the expected mean (µ) probability for picking a double homozygous recessive animal if you pick 20 animals total? What is the variance (σ^2)?**"
   ]
  },
  {
   "cell_type": "markdown",
   "id": "02d2e4a6-069e-4007-9e2b-08632f78f584",
   "metadata": {
    "id": "02d2e4a6-069e-4007-9e2b-08632f78f584"
   },
   "source": [
    "## <font color='red'>Student Input Cell: 3 points</font> "
   ]
  },
  {
   "cell_type": "code",
   "execution_count": 8,
   "id": "6b9544b2-d207-4003-87fc-66db0016bea6",
   "metadata": {
    "id": "6b9544b2-d207-4003-87fc-66db0016bea6"
   },
   "outputs": [
    {
     "name": "stdout",
     "output_type": "stream",
     "text": [
      "1.25\n",
      "1.171875\n"
     ]
    }
   ],
   "source": [
    "mu_aabb = 20 * P_AAbb\n",
    "print(mu_aabb)\n",
    "variance_aabb = 20*P_AAbb * (1-P_AAbb)\n",
    "print(variance_aabb)"
   ]
  },
  {
   "cell_type": "markdown",
   "id": "1cb427be-2750-49d2-896a-681ff2dda80b",
   "metadata": {
    "id": "1cb427be-2750-49d2-896a-681ff2dda80b"
   },
   "source": [
    "**Now let's plot what this distribution of possible outcomes looks like for picking 0->20 animals.** To make the coding easier, rather than coding the entire formula from class, you can use scipy's `binom.pmf` function which you imported above.\n",
    "\n",
    "`P = binom.pmf(k, N, p)`\n",
    "\n",
    "Check to see whether the values for your mean and standard deviation match what you expect with your distribution.\n"
   ]
  },
  {
   "cell_type": "markdown",
   "id": "73af9eb5-faa6-462e-a6ce-379a95393f37",
   "metadata": {
    "id": "73af9eb5-faa6-462e-a6ce-379a95393f37"
   },
   "source": [
    "## <font color='red'>Student Input Cell: 4 points</font> "
   ]
  },
  {
   "cell_type": "code",
   "execution_count": 9,
   "id": "b7e2f612-e750-4524-a005-60d56f28f256",
   "metadata": {
    "colab": {
     "base_uri": "https://localhost:8080/",
     "height": 296
    },
    "executionInfo": {
     "elapsed": 340,
     "status": "ok",
     "timestamp": 1645154046386,
     "user": {
      "displayName": "Andrew Gordus",
      "photoUrl": "https://lh3.googleusercontent.com/a-/AOh14GiBzPoio1jDayY13M5uFDHejsJ1g_w3vXIZqzCiwg=s64",
      "userId": "15332279249794361134"
     },
     "user_tz": 300
    },
    "id": "b7e2f612-e750-4524-a005-60d56f28f256",
    "outputId": "e872b52f-0a38-4767-e984-8fe3bd02877f",
    "scrolled": false
   },
   "outputs": [
    {
     "data": {
      "text/plain": [
       "[<matplotlib.lines.Line2D at 0x16658a8d0>]"
      ]
     },
     "execution_count": 9,
     "metadata": {},
     "output_type": "execute_result"
    },
    {
     "data": {
      "image/png": "[encoded data removed]",
      "text/plain": [
       "<Figure size 640x480 with 1 Axes>"
      ]
     },
     "metadata": {},
     "output_type": "display_data"
    }
   ],
   "source": [
    "# k needs to be integers\n",
    "binom_probabilities = []\n",
    "for k in np.arange(0,21):\n",
    "    P = binom.pmf(k,20,P_AAbb)\n",
    "    binom_probabilities.append(P)\n",
    "\n",
    "\n",
    "# Plot binomial distribution\n",
    "# Since this is a DISCRETE distribution, you should plot markers, and not lines.\n",
    "# i.e. plt.plot(k,p,'o')\n",
    "plt.plot(np.arange(0,21),binom_probabilities,\"o\")"
   ]
  },
  {
   "cell_type": "markdown",
   "id": "2ad9ce63-459c-4600-9f88-4d0976ae7647",
   "metadata": {
    "id": "2ad9ce63-459c-4600-9f88-4d0976ae7647"
   },
   "source": [
    "**What is the probability of NOT finding an aabb F2?**"
   ]
  },
  {
   "cell_type": "markdown",
   "id": "2fe31bcb-171d-4044-ae55-a39f81826ac8",
   "metadata": {
    "id": "2fe31bcb-171d-4044-ae55-a39f81826ac8"
   },
   "source": [
    "## <font color='red'>Student Input Cell: 1 point</font> "
   ]
  },
  {
   "cell_type": "code",
   "execution_count": 13,
   "id": "be3d658b-9057-41b6-b82d-dea58a556842",
   "metadata": {
    "colab": {
     "base_uri": "https://localhost:8080/"
    },
    "executionInfo": {
     "elapsed": 131,
     "status": "ok",
     "timestamp": 1645154051798,
     "user": {
      "displayName": "Andrew Gordus",
      "photoUrl": "https://lh3.googleusercontent.com/a-/AOh14GiBzPoio1jDayY13M5uFDHejsJ1g_w3vXIZqzCiwg=s64",
      "userId": "15332279249794361134"
     },
     "user_tz": 300
    },
    "id": "be3d658b-9057-41b6-b82d-dea58a556842",
    "outputId": "384f0f3d-fe30-437d-8069-b3843c755624"
   },
   "outputs": [
    {
     "data": {
      "text/plain": [
       "np.float64(0.2750587898883363)"
      ]
     },
     "execution_count": 13,
     "metadata": {},
     "output_type": "execute_result"
    }
   ],
   "source": [
    "P_not_aabb = binom_probabilities[0]\n",
    "P_not_aabb"
   ]
  },
  {
   "cell_type": "markdown",
   "id": "8b2ee6f8-dadd-4de3-8db8-ff4f05a0cb2d",
   "metadata": {
    "id": "8b2ee6f8-dadd-4de3-8db8-ff4f05a0cb2d"
   },
   "source": [
    "**What is the probability of picking AT LEAST 1 aabb F2?**"
   ]
  },
  {
   "cell_type": "markdown",
   "id": "d639edfc-485d-4079-8a38-19477a00f35c",
   "metadata": {
    "id": "d639edfc-485d-4079-8a38-19477a00f35c"
   },
   "source": [
    "## <font color='red'>Student Input Cell: 1 point</font> "
   ]
  },
  {
   "cell_type": "code",
   "execution_count": 14,
   "id": "83094954-2fb0-498b-84f8-de61df3f433e",
   "metadata": {
    "colab": {
     "base_uri": "https://localhost:8080/"
    },
    "executionInfo": {
     "elapsed": 140,
     "status": "ok",
     "timestamp": 1645154054150,
     "user": {
      "displayName": "Andrew Gordus",
      "photoUrl": "https://lh3.googleusercontent.com/a-/AOh14GiBzPoio1jDayY13M5uFDHejsJ1g_w3vXIZqzCiwg=s64",
      "userId": "15332279249794361134"
     },
     "user_tz": 300
    },
    "id": "83094954-2fb0-498b-84f8-de61df3f433e",
    "outputId": "7eca41a5-4e97-4717-e06a-dffb6db9d815"
   },
   "outputs": [
    {
     "data": {
      "text/plain": [
       "np.float64(0.7249412101116637)"
      ]
     },
     "execution_count": 14,
     "metadata": {},
     "output_type": "execute_result"
    }
   ],
   "source": [
    "P_at_least_aabb = 1-P_not_aabb\n",
    "P_at_least_aabb"
   ]
  },
  {
   "cell_type": "code",
   "execution_count": null,
   "id": "69eb903d",
   "metadata": {},
   "outputs": [],
   "source": []
  }
 ],
 "metadata": {
  "colab": {
   "collapsed_sections": [],
   "name": "Quant_Lab_20220218_KEY.ipynb",
   "provenance": []
  },
  "kernelspec": {
   "display_name": "qblab2",
   "language": "python",
   "name": "python3"
  },
  "language_info": {
   "codemirror_mode": {
    "name": "ipython",
    "version": 3
   },
   "file_extension": ".py",
   "mimetype": "text/x-python",
   "name": "python",
   "nbconvert_exporter": "python",
   "pygments_lexer": "ipython3",
   "version": "3.12.0"
  }
 },
 "nbformat": 4,
 "nbformat_minor": 5
}
