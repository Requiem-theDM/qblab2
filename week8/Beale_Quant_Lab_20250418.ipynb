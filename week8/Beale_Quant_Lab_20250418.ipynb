{
 "cells": [
  {
   "cell_type": "markdown",
   "metadata": {
    "id": "zPQBWHXl6ldH"
   },
   "source": [
    "# Quantitative Biology and Biophysics (AS.020.674/618)\tSpring 2025\n",
    "## Lab 8: Gordus \n",
    "## April 18, 2025\n",
    "\n",
    "#  Lineweaver-Burk Plot\n",
    "\n",
    "The goal here will be to perform a linear regression. As mentioned earlier in the semester, a linear regression has an analytical solution, unlike a non-linear fit, which is numerically solved recursively. We will use the linear regression to estimate the K<sub>M</sub> and V<sub>max</sub>.\n",
    "\n",
    "## Libraries you will need"
   ]
  },
  {
   "cell_type": "code",
   "execution_count": 1,
   "metadata": {
    "id": "noDWcH8Z6ldM"
   },
   "outputs": [],
   "source": [
    "import numpy as np\n",
    "import matplotlib.pyplot as plt\n",
    "from sklearn.linear_model import LinearRegression"
   ]
  },
  {
   "cell_type": "markdown",
   "metadata": {},
   "source": [
    "## Michaelis-Menten Kinetics\n",
    "\n",
    "Measuring enzyme kinetics often involves developing an assay where you can measure the initial rate of an enzymatic reaction (typically through a fluorescent readout) at different concentrations of substrate. The simples model of enzyme kinetics is for a second-order reaction where an enzyme binds a single substrate (A), and produces a product (P):\n",
    "\n",
    "![kinetics](https://wikimedia.org/api/rest_v1/media/math/render/svg/02a24d41daa267c3a150de51e8fcbb0ad7d5e2fb)\n",
    "\n",
    "This is considered a second-order reaction because the rate of the reaction (dP/dt) is the product of the enzyme (E), the substrate (S) and the catalytic rate constant (k<sub>cat</sub>).\n",
    "\n",
    "<img src=\"http://www.gordus.org/public_images/dP.png\" alt=\"Drawing\" style=\"height: 50px;\"/>\n",
    "<img src=\"http://www.gordus.org/public_images/dEA.png\" alt=\"Drawing\" style=\"height: 50px;\"/>\n",
    "<img src=\"http://www.gordus.org/public_images/dA.png\" alt=\"Drawing\" style=\"height: 50px;\"/>\n",
    "<img src=\"http://www.gordus.org/public_images/dE.png\" alt=\"Drawing\" style=\"height: 50px;\"/>\n",
    "\n",
    "**Michaelis-Menten Assumption #1: [E]<<[A]**\n",
    "\n",
    "Integrating these coupled differential equations is possible, but beyond the scope of this class. Fortunately, Michaelis and Menten didn't want to put up with this headache either, so they designed their experiments so that [E] << [A]. By doing this, they essentially converted this second-order reaction into a first-order reaction, because there is SO MUCH A relative to E, that during the course of measuring product formation (P), A hardly changes at all. In other words:\n",
    "\n",
    "<img src=\"http://www.gordus.org/public_images/dA0.png\" alt=\"Drawing\" style=\"height: 50px;\"/>\n",
    "\n",
    "**Michaelis-Menten Assumption #2: [EA] is at steady-state**\n",
    "\n",
    "A second assumption is that when you measure the rate of product formation, you are doing this under conditions where the bound form of the enzyme (EA) is under steady state, in part because of the excess amount of A being used, relative to E. The steady-state assumption assumes:\n",
    "\n",
    "<img src=\"http://www.gordus.org/public_images/dEA0.png\" alt=\"Drawing\" style=\"height: 50px;\"/>\n",
    "\n",
    "**Deriving Michaelis-Menten Step #1: Substitute E with E<sub>total</sub> - EA**\n",
    "\n",
    "The total amount of enzyme in the reaction is the sum of the free and bound forms of enzyme, i.e.:\n",
    "\n",
    "<img src=\"http://www.gordus.org/public_images/E.png\" alt=\"Drawing\" style=\"height: 35px;\"/>\n",
    "\n",
    "The first step to deriving the Michaelis-Menten equation is to replace [E] in the equation above with [E<sub>total</sub>]-[EA]\n",
    "\n",
    "**Deriving Michaelis-Menten Step #2: Solve for EA**\n",
    "\n",
    "Once you set dEA/dt to zero, and replace [E] in the equation above with [E<sub>total</sub>]-[EA], you can solve for [EA]:\n",
    "\n",
    "<img src=\"http://www.gordus.org/public_images/EA1.png\" alt=\"Drawing\" style=\"height: 60px;\"/>\n",
    "\n",
    "If you divide the numerator and denominator on the right side by k<sub>+1</sub>, you get:\n",
    "\n",
    "<img src=\"http://www.gordus.org/public_images/EA2.png\" alt=\"Drawing\" style=\"height: 65px;\"/>\n",
    "\n",
    "**Deriving Michaelis-Menten Step #3: K<sub>M</sub> and V<sub>max</sub> substitutions**\n",
    "\n",
    "If you make the following substitutions:\n",
    "\n",
    "<img src=\"http://www.gordus.org/public_images/KM2.png\" alt=\"Drawing\" style=\"height: 50px;\"/>\n",
    "\n",
    "<img src=\"http://www.gordus.org/public_images/Vmax.png\" alt=\"Drawing\" style=\"height: 35px;\"/>\n",
    "\n",
    "and plug this:\n",
    "\n",
    "<img src=\"http://www.gordus.org/public_images/EA2.png\" alt=\"Drawing\" style=\"height: 65px;\"/>\n",
    "\n",
    "into this:\n",
    "\n",
    "<img src=\"http://www.gordus.org/public_images/dP.png\" alt=\"Drawing\" style=\"height: 50px;\"/>\n",
    "\n",
    "you will arrive at this:\n",
    "\n",
    "<img src=\"http://www.gordus.org/public_images/MM.png\" alt=\"Drawing\" style=\"height: 70px;\"/>\n",
    "\n",
    "This is the Michaelis-Menten Equation. You have converted a second-order equation into a first-order one, because now the rate of product formation is a function of A, rather than E and A.\n",
    "\n",
    "## Lineweaver-Burk Plot\n",
    "\n",
    "Nowadays, if you want to measure the binding constant (K<sub>M</sub>) and catalytic constant (V<sub>max</sub>=k<sub>cat</sub>[E<sub>total</sub>]), you would just fit the above equation to measured data using a recursive nonlinear fit function (like we've used in the past!). However, a simple way to measure the enzyme parameters is to simply invert the Michaelis-Menten equation:\n",
    "\n",
    "<img src=\"http://www.gordus.org/public_images/LB.png\" alt=\"Drawing\" style=\"height: 65px;\"/>\n",
    "\n",
    "and then plot 1/v as a function of 1/[A].\n",
    "\n",
    "We will do that here to practice using Python to solve a linear regression."
   ]
  },
  {
   "cell_type": "markdown",
   "metadata": {
    "id": "gn0Sd3WYBxlI"
   },
   "source": [
    "## Linear Regression\n",
    "\n",
    "For a linear regression, you have:\n",
    "\n",
    "**x: independent data**\n",
    "\n",
    "**y: dependent data**\n",
    "\n",
    "You want to build a function:\n",
    "\n",
    "**y_predict = y_intercept + slope*x**\n",
    "\n",
    "where the difference between y and y_predict is minimal. The linear algebra involved in doing this operation is called a linear regression.\n",
    "\n",
    "## Linear Regression in Python\n",
    "\n",
    "An easy regression function to use in Python is `LinearRegression.fit(x,y)`\n",
    "\n",
    "To calculate the slope and y-intercept, execute the code in the following manner:\n",
    "\n",
    "`reg = LinearRegression().fit(x, y)`\n",
    "\n",
    "`slope = reg.coef_[0]`\n",
    "\n",
    "`y_intercept = reg.intercept_`\n",
    "\n",
    "An **IMPORTANT** detail:\n",
    "\n",
    "The x array **MUST** be a column vector for the linear regression function to work. Here is an example of how to promote a row vector into a column vector:"
   ]
  },
  {
   "cell_type": "code",
   "execution_count": 2,
   "metadata": {
    "colab": {
     "base_uri": "https://localhost:8080/"
    },
    "id": "jWQkdWtEDARt",
    "outputId": "be6c3cbd-f87f-4a0c-e5a9-9c47547827d7"
   },
   "outputs": [
    {
     "name": "stdout",
     "output_type": "stream",
     "text": [
      "[1 2 3 4 5]\n",
      "x dimensions: (5,)\n",
      "[[1]\n",
      " [2]\n",
      " [3]\n",
      " [4]\n",
      " [5]]\n",
      "x dimensions: (5, 1)\n"
     ]
    }
   ],
   "source": [
    "# x is a row vector\n",
    "x = np.array([1,2,3,4,5])\n",
    "print(x)\n",
    "print('x dimensions: '+str(x.shape))\n",
    "\n",
    "# x is a COLUMN vector\n",
    "x = x[...,None]\n",
    "\n",
    "print(x)\n",
    "print('x dimensions: '+str(x.shape))\n",
    "\n"
   ]
  },
  {
   "cell_type": "markdown",
   "metadata": {
    "id": "fGPcE0tcC41I"
   },
   "source": [
    "# Problem 2.1:\n",
    "\n",
    "You prepare an enzyme reaction where you use the following concentrations of substrate ($\\mu$M):\n",
    "\n",
    "[0.3, 1, 3, 10, 30]\n",
    "\n",
    "And observe the following rates ($\\mu$M s<sup>-1</sup>) without inhibitor:\n",
    "\n",
    "[0.127, 0.353, 0.720, 1.132, 1.353]\n",
    "\n",
    "And with inhibitor:\n",
    "\n",
    "[0.099, 0.198, 0.277, 0.322, 0.337]\n",
    "\n",
    "\n",
    "Prepare a Lineweaver-Burk plot of both data sets. The plots should show the individual data points as well as an appropriate fit. To plot your fit (regression line) to the data, you will need to plot:\n",
    "\n",
    "**y_predict = y_intercept + slope*x**\n",
    "\n",
    "from your regression. You can then use this information to calculate the V<sub>max</sub> and K<sub>M</sub>.\n",
    "\n",
    "Make sure to label the axes, including units, and report the fitting parameters that you obtain.\n",
    "\n",
    "## <font color='red'>Student Input Cell: 20 points</font>"
   ]
  },
  {
   "cell_type": "code",
   "execution_count": 3,
   "metadata": {
    "colab": {
     "base_uri": "https://localhost:8080/",
     "height": 596
    },
    "id": "wFvzzJJgEIa-",
    "outputId": "473c7602-9915-432f-972b-ba316c0c7c17"
   },
   "outputs": [
    {
     "name": "stdout",
     "output_type": "stream",
     "text": [
      "Slope (No Inhibitor): 2.1620029349528327\n",
      "Y Intercept (No Inhibitor): 0.6681284530341616\n",
      "Vmax (No Inhibitor): 1.4967181766600648\n",
      "KM (No Inhibitor): 3.235909090736312\n",
      "Slope (No Inhibitor): 2.1628155444421404\n",
      "Y Intercept (No Inhibitor): 2.8906115907997756\n",
      "Vmax (Inhibitor): 0.3459475507476671\n",
      "KM (Inhibitor): 0.7482207403187405\n"
     ]
    },
    {
     "data": {
      "image/png": "[encoded data removed]",
      "text/plain": [
       "<Figure size 640x480 with 2 Axes>"
      ]
     },
     "metadata": {},
     "output_type": "display_data"
    }
   ],
   "source": [
    "concentration = np.array([0.3, 1, 3, 10, 30])\n",
    "rates = np.array([0.127, 0.353, 0.720, 1.132, 1.353])\n",
    "ratesWithInhibitor = np.array([0.099, 0.198, 0.277, 0.322, 0.337])\n",
    "\n",
    "def findABLine(x, y):\n",
    "    # Transpose rows to column vectors\n",
    "    x = x[...,None]\n",
    "    y = y[...,None]\n",
    "    reg = LinearRegression().fit(x,y)\n",
    "    slope = reg.coef_[0][0]\n",
    "    y_intercept = reg.intercept_[0]\n",
    "    return slope, y_intercept\n",
    "\n",
    "slope, y_intercept = findABLine(1/concentration,1/rates)\n",
    "print(f\"Slope (No Inhibitor): {slope}\")\n",
    "print(f\"Y Intercept (No Inhibitor): {y_intercept}\")\n",
    "print(f\"Vmax (No Inhibitor): {1/y_intercept}\")\n",
    "print(f\"KM (No Inhibitor): {slope/y_intercept}\")\n",
    "slopeWithInhibitor, y_interceptWithInhibitor = findABLine(1/concentration,1/ratesWithInhibitor)\n",
    "print(f\"Slope (No Inhibitor): {slopeWithInhibitor}\")\n",
    "print(f\"Y Intercept (No Inhibitor): {y_interceptWithInhibitor}\")\n",
    "print(f\"Vmax (Inhibitor): {1/y_interceptWithInhibitor}\")\n",
    "print(f\"KM (Inhibitor): {slopeWithInhibitor/y_interceptWithInhibitor}\")\n",
    "\n",
    "fig, axs = plt.subplots(1, 2)\n",
    "axs[0].scatter(1/concentration,1/rates)\n",
    "axs[0].set_title(\"Lineweaver-Burk plot\\nUninhibited Enzyme\")\n",
    "axs[0].set_ylabel(\"Rate ($\\\\mu Ms^{-1}$)\")\n",
    "axs[0].set_xlabel(\"Concentration ($\\\\mu M$)\")\n",
    "axs[0].axline((0,y_intercept),slope=slope,c='k')\n",
    "axs[0].set_ylim(0,12)\n",
    "axs[0].set_xlim(0,4)\n",
    "axs[1].scatter(1/concentration,1/ratesWithInhibitor)\n",
    "axs[1].set_title(\"Lineweaver-Burk plot\\nInhibited Enzyme\")\n",
    "axs[1].set_ylabel(\"Rate ($\\\\mu Ms^{-1}$)\")\n",
    "axs[1].set_xlabel(\"Concentration ($\\\\mu M$)\")\n",
    "axs[1].axline((0,y_interceptWithInhibitor),slope=slopeWithInhibitor,c='k')\n",
    "axs[1].set_ylim(0,12)\n",
    "axs[1].set_xlim(0,4)\n",
    "plt.tight_layout()\n",
    "plt.show()"
   ]
  },
  {
   "cell_type": "markdown",
   "metadata": {},
   "source": [
    "## <font color='red'>Student Input Cell: 10 points</font>\n"
   ]
  },
  {
   "cell_type": "markdown",
   "metadata": {},
   "source": [
    "Did the inhibitor weaken (increase) or strengthen (decrease) the K<sub>M</sub> ? <br>\n",
    "Did it increase or decrease the V<sub>max</sub>?"
   ]
  },
  {
   "cell_type": "markdown",
   "metadata": {},
   "source": [
    "The inhibitor strengthened the $\\ K_M$ and decreased $\\ V_{max}$."
   ]
  }
 ],
 "metadata": {
  "colab": {
   "provenance": []
  },
  "kernelspec": {
   "display_name": "qblab2",
   "language": "python",
   "name": "python3"
  },
  "language_info": {
   "codemirror_mode": {
    "name": "ipython",
    "version": 3
   },
   "file_extension": ".py",
   "mimetype": "text/x-python",
   "name": "python",
   "nbconvert_exporter": "python",
   "pygments_lexer": "ipython3",
   "version": "3.12.0"
  }
 },
 "nbformat": 4,
 "nbformat_minor": 4
}
